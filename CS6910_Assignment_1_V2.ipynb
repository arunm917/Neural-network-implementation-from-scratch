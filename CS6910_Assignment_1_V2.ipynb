{
  "cells": [
    {
      "cell_type": "markdown",
      "metadata": {
        "id": "_Aqal939HNhx"
      },
      "source": [
        "# Importing packages"
      ]
    },
    {
      "cell_type": "code",
      "execution_count": 1,
      "metadata": {
        "id": "3iv-dm8IHFiD"
      },
      "outputs": [],
      "source": [
        "import numpy as np\n",
        "import pandas as pd\n",
        "import gdown\n",
        "import matplotlib.pyplot as plt\n",
        "from sklearn.preprocessing import StandardScaler, MinMaxScaler\n",
        "from sklearn.model_selection import train_test_split\n",
        "from sklearn.metrics import accuracy_score, mean_squared_error\n",
        "from tqdm.notebook import trange, tqdm\n",
        "from sklearn.metrics import mean_squared_error\n",
        "from sklearn.preprocessing import OneHotEncoder\n",
        "# import tensorflow as ts\n",
        "from tensorflow import keras\n",
        "from sklearn.metrics import accuracy_score, mean_squared_error, log_loss"
      ]
    },
    {
      "cell_type": "code",
      "execution_count": 2,
      "metadata": {
        "colab": {
          "base_uri": "https://localhost:8080/"
        },
        "id": "PU8KN2rPmZog",
        "outputId": "6500fb5c-b85b-4e9f-e356-0398ca710764"
      },
      "outputs": [
        {
          "name": "stdout",
          "output_type": "stream",
          "text": [
            "Thu Mar  9 16:19:45 2023       \n",
            "+-----------------------------------------------------------------------------+\n",
            "| NVIDIA-SMI 517.37       Driver Version: 517.37       CUDA Version: 11.7     |\n",
            "|-------------------------------+----------------------+----------------------+\n",
            "| GPU  Name            TCC/WDDM | Bus-Id        Disp.A | Volatile Uncorr. ECC |\n",
            "| Fan  Temp  Perf  Pwr:Usage/Cap|         Memory-Usage | GPU-Util  Compute M. |\n",
            "|                               |                      |               MIG M. |\n",
            "|===============================+======================+======================|\n",
            "|   0  Quadro P2000       WDDM  | 00000000:65:00.0  On |                  N/A |\n",
            "| 48%   38C    P8     8W /  75W |    531MiB /  5120MiB |     15%      Default |\n",
            "|                               |                      |                  N/A |\n",
            "+-------------------------------+----------------------+----------------------+\n",
            "                                                                               \n",
            "+-----------------------------------------------------------------------------+\n",
            "| Processes:                                                                  |\n",
            "|  GPU   GI   CI        PID   Type   Process name                  GPU Memory |\n",
            "|        ID   ID                                                   Usage      |\n",
            "|=============================================================================|\n",
            "|    0   N/A  N/A      2792    C+G   ...8wekyb3d8bbwe\\GameBar.exe    N/A      |\n",
            "|    0   N/A  N/A      5952    C+G   C:\\Windows\\explorer.exe         N/A      |\n",
            "|    0   N/A  N/A      6276    C+G   ...8wekyb3d8bbwe\\Cortana.exe    N/A      |\n",
            "|    0   N/A  N/A      7676    C+G   ...wekyb3d8bbwe\\Video.UI.exe    N/A      |\n",
            "|    0   N/A  N/A      8448    C+G   ...ser\\Application\\brave.exe    N/A      |\n",
            "|    0   N/A  N/A      9512    C+G   ...2af9farr\\WorkingHours.exe    N/A      |\n",
            "|    0   N/A  N/A      9860    C+G   ...2txyewy\\TextInputHost.exe    N/A      |\n",
            "|    0   N/A  N/A     15320    C+G   ...icrosoft VS Code\\Code.exe    N/A      |\n",
            "|    0   N/A  N/A     17356    C+G   ...artMenuExperienceHost.exe    N/A      |\n",
            "|    0   N/A  N/A     23108    C+G   ...cw5n1h2txyewy\\LockApp.exe    N/A      |\n",
            "|    0   N/A  N/A     24752    C+G   ...0.0.2.0\\GoogleDriveFS.exe    N/A      |\n",
            "|    0   N/A  N/A     24952    C+G   ...n1h2txyewy\\SearchHost.exe    N/A      |\n",
            "|    0   N/A  N/A     26124    C+G   ...e\\PhoneExperienceHost.exe    N/A      |\n",
            "|    0   N/A  N/A     31424    C+G   ...587.63\\msedgewebview2.exe    N/A      |\n",
            "+-----------------------------------------------------------------------------+\n"
          ]
        }
      ],
      "source": [
        "!nvidia-smi"
      ]
    },
    {
      "cell_type": "markdown",
      "metadata": {
        "id": "5RH_78eMoUz_"
      },
      "source": [
        "# Data preprocessing - fashion MNIST"
      ]
    },
    {
      "cell_type": "code",
      "execution_count": 7,
      "metadata": {
        "id": "L9o4nbueocl5"
      },
      "outputs": [],
      "source": [
        "(X_train, y_train), (X_test, y_test) = keras.datasets.fashion_mnist.load_data()"
      ]
    },
    {
      "cell_type": "code",
      "execution_count": 8,
      "metadata": {
        "id": "q42AW6dqE3jt"
      },
      "outputs": [],
      "source": [
        "X_train, X_val, y_train, y_val = train_test_split(X_train, Y_train, stratify = Y_train, random_state=7, test_size = 0.1)"
      ]
    },
    {
      "cell_type": "code",
      "execution_count": 9,
      "metadata": {
        "id": "1lOnsGYSq0YV"
      },
      "outputs": [],
      "source": [
        "X_train_scaled = X_train.reshape(len(X_train),28*28)/255.0\n",
        "X_val_scaled = X_val.reshape(len(X_val),28*28)/255.0\n",
        "X_test_scaled = X_test.reshape(len(X_test),28*28)/255.0"
      ]
    },
    {
      "cell_type": "markdown",
      "metadata": {
        "id": "RCN_Xp6OHz8u"
      },
      "source": [
        "Encoding labels"
      ]
    },
    {
      "cell_type": "code",
      "execution_count": 10,
      "metadata": {
        "colab": {
          "base_uri": "https://localhost:8080/"
        },
        "id": "CHgfHPrWHNJ_",
        "outputId": "cf593ae8-c988-4231-b769-772d1996d509"
      },
      "outputs": [
        {
          "name": "stdout",
          "output_type": "stream",
          "text": [
            "(54000, 10) (6000, 10) (10000, 10)\n"
          ]
        }
      ],
      "source": [
        "enc = OneHotEncoder()\n",
        "y_train_enc = enc.fit_transform(np.expand_dims(y_train,1)).toarray()\n",
        "y_val_enc = enc.fit_transform(np.expand_dims(y_val,1)).toarray()\n",
        "y_test_enc = enc.fit_transform(np.expand_dims(y_test,1)).toarray()\n",
        "print(y_train_enc.shape, y_val_enc.shape, y_test_enc.shape)"
      ]
    },
    {
      "cell_type": "markdown",
      "metadata": {
        "id": "iWHhmz9InIjr"
      },
      "source": [
        "Batching"
      ]
    },
    {
      "cell_type": "code",
      "execution_count": 11,
      "metadata": {
        "id": "m8f50PPnnHm6"
      },
      "outputs": [],
      "source": [
        "X_train_batch = X_train_scaled[0:1000,:]\n",
        "y_train_batch = y_train_enc[0:1000,:]"
      ]
    },
    {
      "cell_type": "code",
      "execution_count": 12,
      "metadata": {
        "colab": {
          "base_uri": "https://localhost:8080/"
        },
        "id": "q60obFRBo23w",
        "outputId": "c5a1674b-ef6b-4f26-f9aa-bfc52d6a8195"
      },
      "outputs": [
        {
          "name": "stdout",
          "output_type": "stream",
          "text": [
            "(54000, 784) (54000, 10) (1000, 784) (1000, 10)\n"
          ]
        }
      ],
      "source": [
        "print(X_train_scaled.shape, y_train_enc.shape, X_train_batch.shape, y_train_batch.shape )"
      ]
    },
    {
      "cell_type": "markdown",
      "metadata": {
        "id": "F9mmePvZHTlv"
      },
      "source": [
        "# Initializations"
      ]
    },
    {
      "cell_type": "code",
      "execution_count": 13,
      "metadata": {
        "id": "uoZUDSWvHcSw"
      },
      "outputs": [],
      "source": [
        "class Initialization:\n",
        "  \n",
        "  def initialize(self, sizes):\n",
        "    self.W = {}\n",
        "    self.B = {}\n",
        "    self.sizes = sizes\n",
        "    self.nh = len(sizes)-2\n",
        "\n",
        "    for i in range(self.nh + 1):\n",
        "      self.W[i+1] = np.random.randn(self.sizes[i+1], self.sizes[i])\n",
        "      self.B[i+1] = np.zeros((self.sizes[i+1],1))\n",
        "\n",
        "    return(self.W, self.B)\n",
        "    \n",
        "initial = Initialization()  #Instantiation for the class initialization"
      ]
    },
    {
      "cell_type": "markdown",
      "metadata": {
        "id": "FURanER4HgN4"
      },
      "source": [
        "# Hyperparameters"
      ]
    },
    {
      "cell_type": "code",
      "execution_count": null,
      "metadata": {
        "id": "0OjAzV-QH-rH"
      },
      "outputs": [],
      "source": [
        "class Hyperparameters:\n",
        "  epochs = 20\n",
        "  eta    = 1e-5\n",
        "\n",
        "hyper = Hyperparameters()"
      ]
    },
    {
      "cell_type": "markdown",
      "metadata": {
        "id": "zQAFW9LhIHSv"
      },
      "source": [
        "# Activation functions"
      ]
    },
    {
      "cell_type": "code",
      "execution_count": 14,
      "metadata": {
        "id": "gaYebnsAIJXs"
      },
      "outputs": [],
      "source": [
        "class ActivationFunctions:\n",
        "\n",
        "  def linear(self,W,b,x):\n",
        "    return (np.dot(W,x) + b)\n",
        "\n",
        "  def sigmoid(self, z):\n",
        "    return 1/(1+np.exp(-z))\n",
        "\n",
        "  def softmax(self, z):\n",
        "    return np.exp(z)/np.sum(np.exp(z))\n",
        "  \n",
        "  def grad_sigmoid(self,z):\n",
        "    return z*(1-z)\n",
        "\n",
        "\n",
        "act = ActivationFunctions()"
      ]
    },
    {
      "cell_type": "markdown",
      "metadata": {
        "id": "1iklJTyvIPQI"
      },
      "source": [
        "# Loss Functions"
      ]
    },
    {
      "cell_type": "code",
      "execution_count": 15,
      "metadata": {
        "id": "Ysm6kTMgIS42"
      },
      "outputs": [],
      "source": [
        "class LossFunctions:\n",
        "  def MSE(self, y, y_pred):\n",
        "    return (np.sum((y-y_pred)**2))/len(y)\n",
        "  \n",
        "  def cross_entropy(self, y, y_pred):\n",
        "    # clipping y_pred to prevent log(0) errors\n",
        "    y_pred = np.clip(y_pred, 1e-15, 1 - 1e-15)\n",
        "    \n",
        "    ce_loss = np.mean(np.sum(np.multiply(-y,np.log(y_pred)), axis = 0))\n",
        "    #ce_loss = log_loss(y,y_pred)\n",
        "    #print(log_loss(y,y_pred))\n",
        "    return(ce_loss)\n",
        "loss_functions = LossFunctions()"
      ]
    },
    {
      "cell_type": "markdown",
      "metadata": {
        "id": "ZQGzzm1ZIVsP"
      },
      "source": [
        "# Learning Algorithms"
      ]
    },
    {
      "cell_type": "code",
      "execution_count": 16,
      "metadata": {
        "id": "ps_e-AyMIYzR"
      },
      "outputs": [],
      "source": [
        "class Optimizer:\n",
        "\n",
        "  def learning_algoithm(self, W, B, dW, dB, nh, batch_size, learning_rate, optimizer):\n",
        "    if optimizer == 'SGD':\n",
        "      for i in range(nh + 1):\n",
        "        W[i+1] -= learning_rate * (dW[i+1])\n",
        "        B[i+1] -= learning_rate * (dB[i+1])\n",
        "\n",
        "    if optimizer == 'MBGD':\n",
        "      for i in range(nh + 1):\n",
        "        W[i+1] -= learning_rate * (dW[i+1]/batch_size)\n",
        "        B[i+1] -= learning_rate * (dB[i+1]/batch_size)\n",
        "\n",
        "    # if optimizer == 'NAG':\n",
        "\n",
        "    # if optimizer == 'RMSPROP':\n",
        "\n",
        "    # if optimizer == 'ADAM':\n",
        "      \n",
        "    # if optimizer == 'NADAM':\n",
        "    \n",
        "\n",
        "    return(W, B)\n",
        "\n",
        "opt = Optimizer()"
      ]
    },
    {
      "cell_type": "markdown",
      "metadata": {
        "id": "km6C0oq-IyOP"
      },
      "source": [
        "# Model"
      ]
    },
    {
      "cell_type": "code",
      "execution_count": 21,
      "metadata": {
        "id": "m78pqHeerZZ3"
      },
      "outputs": [],
      "source": [
        "class Model(Optimizer):\n",
        "    \n",
        "  def forward_prop(self, x,y):\n",
        "    self.A = {}\n",
        "    self.H = {}\n",
        "    self.x = x\n",
        "    self.y = y\n",
        "    loss_batch = 0\n",
        "    self.H[0] = self.x.T\n",
        "\n",
        "    for i in range(self.nh + 1):\n",
        "      self.A[i+1] = np.matmul(self.W[i+1], self.H[i]) + self.B[i+1]\n",
        "      self.H[i+1] = act.sigmoid(self.A[i+1])\n",
        "\n",
        "    y_pred = act.softmax(self.A[i+1])\n",
        "    #print(y_pred)\n",
        "    #print('Y = ', self.y.shape, 'Y_pred =', y_pred.shape)\n",
        "    loss_batch = loss_functions.cross_entropy(self.y.T ,y_pred)\n",
        "    self.loss_batch_store.append(loss_batch)\n",
        "    return(y_pred)\n",
        "  \n",
        "  def grad(self, x, y):\n",
        "\n",
        "    y_pred = self.forward_prop(x,y)\n",
        "    self.dW = {}\n",
        "    self.dB = {}\n",
        "    self.dA = {}\n",
        "    self.dH = {}\n",
        "    self.dA[self.nh + 1] = y_pred - y.T\n",
        "\n",
        "    for i in range(self.nh + 1 , 0, -1):\n",
        "      self.dW[i]      = np.matmul(self.dA[i],self.H[i-1].T)\n",
        "      self.dB[i]      = np.sum(self.dA[i], axis = 1).reshape(-1,1)\n",
        "      self.dH[i-1]    = np.matmul(self.W[i].T,self.dA[i])\n",
        "      self.dA[i-1]    = np.multiply(self.dH[i-1],act.grad_sigmoid(self.H[i-1]))\n",
        "    return (self.dW, self.dB)\n",
        "  \n",
        "  def fit(self, X, Y, epochs, learning_rate, hidden_layer_sizes, batch_size, optimizer):\n",
        "    \n",
        "    # x = X[0:batch_size,:]\n",
        "    # y = Y[0:batch_size,:]\n",
        "    #self.X = X\n",
        "    self.loss_epoc_store = []\n",
        "    self.nx = X.shape[1]\n",
        "    self.ny = Y.shape[1]\n",
        "    self.nh = len(hidden_layer_sizes)\n",
        "    self.sizes = [self.nx] + hidden_layer_sizes + [self.ny]\n",
        "\n",
        "    if optimizer == 'SGD':\n",
        "      batch_size =1\n",
        "  \n",
        "    step_size = len(X)/batch_size\n",
        "    self.W, self.B = initial.initialize(self.sizes)\n",
        "\n",
        "    for i in trange(epochs, total=epochs, unit=\"epoch\"):\n",
        "      loss_epoc = 0\n",
        "      self.loss_batch_store = []\n",
        "      for i in range(0,len(X),batch_size):\n",
        "        self.x = X[i:i+batch_size,:]\n",
        "        self.y = Y[i:i+batch_size,:]\n",
        "        #print('y =', self.y.shape)\n",
        "        self.grad(self.x,self.y)\n",
        "        self.W, self.B = opt.learning_algoithm(self.W, self.B, self.dW, self.dB, self.nh, batch_size, learning_rate, optimizer)\n",
        "\n",
        "      loss_epoc = np.sum(self.loss_batch_store)/step_size\n",
        "      print('training loss = ', loss_epoc)\n",
        "      self.loss_epoc_store.append(loss_epoc)\n",
        "    \n",
        "    plt.plot(self.loss_epoc_store)\n",
        "    plt.xlabel('Epochs')\n",
        "    plt.ylabel('log_loss')\n",
        "    plt.show()\n",
        "\n",
        "model = Model()"
      ]
    },
    {
      "cell_type": "code",
      "execution_count": 28,
      "metadata": {
        "colab": {
          "base_uri": "https://localhost:8080/",
          "height": 376,
          "referenced_widgets": [
            "b7ac12d08f7f4556a93ce741bb276803",
            "4b4be7f2755c4883b0f97a45b247d872",
            "3ed388d6af134fd183a31a67de6e01c3",
            "7705bb3cd28246dd93b55ecef14187f9",
            "676a80fe4b6b48ceb34c550f9a8b2c16",
            "f0a7b1cef1984356a7b3a162295df84c",
            "af132ea858cd4f7d966f8a12617395e8",
            "a019a73fcbfc439186145eec5bdf35e1",
            "9f292cfb35e540d9ba3a38dae3e942f9",
            "ff34ee29c5954db2a88d03423a862c4e",
            "cbf86b1276e84da1a4e482d49c64406c"
          ]
        },
        "id": "wqISZGEjvyoP",
        "outputId": "77652f37-6255-407a-8c67-7cbafc491226"
      },
      "outputs": [
        {
          "data": {
            "application/vnd.jupyter.widget-view+json": {
              "model_id": "aa3b103e19f049ec82fb1d8456b56e3f",
              "version_major": 2,
              "version_minor": 0
            },
            "text/plain": [
              "  0%|          | 0/100 [00:00<?, ?epoch/s]"
            ]
          },
          "metadata": {},
          "output_type": "display_data"
        },
        {
          "name": "stderr",
          "output_type": "stream",
          "text": [
            "C:\\Users\\arunk\\AppData\\Local\\Temp\\ipykernel_26528\\4099074632.py:7: RuntimeWarning: overflow encountered in exp\n",
            "  return 1/(1+np.exp(-z))\n"
          ]
        },
        {
          "name": "stdout",
          "output_type": "stream",
          "text": [
            "training loss =  1.3414073415714458\n",
            "training loss =  1.3253043604616102\n",
            "training loss =  1.2635766800895483\n",
            "training loss =  1.2442205977833594\n",
            "training loss =  1.3563671907448636\n",
            "training loss =  1.271568020895393\n",
            "training loss =  1.029582413577692\n",
            "training loss =  1.240338926814476\n",
            "training loss =  1.1118690146216534\n",
            "training loss =  1.1379535350080858\n",
            "training loss =  1.0592659329038032\n",
            "training loss =  1.0600633741247982\n",
            "training loss =  1.1436962417058625\n",
            "training loss =  1.1903268556031068\n",
            "training loss =  1.2005085700898528\n",
            "training loss =  1.2215159150301376\n"
          ]
        },
        {
          "ename": "KeyboardInterrupt",
          "evalue": "",
          "output_type": "error",
          "traceback": [
            "\u001b[1;31m---------------------------------------------------------------------------\u001b[0m",
            "\u001b[1;31mKeyboardInterrupt\u001b[0m                         Traceback (most recent call last)",
            "\u001b[1;32m~\\AppData\\Local\\Temp\\ipykernel_26528\\778203564.py\u001b[0m in \u001b[0;36m<module>\u001b[1;34m\u001b[0m\n\u001b[1;32m----> 1\u001b[1;33m \u001b[0mmodel\u001b[0m\u001b[1;33m.\u001b[0m\u001b[0mfit\u001b[0m\u001b[1;33m(\u001b[0m\u001b[0mX_train_scaled\u001b[0m\u001b[1;33m,\u001b[0m \u001b[0my_train_enc\u001b[0m\u001b[1;33m,\u001b[0m \u001b[1;36m100\u001b[0m\u001b[1;33m,\u001b[0m \u001b[1;36m0.5\u001b[0m\u001b[1;33m,\u001b[0m \u001b[1;33m[\u001b[0m\u001b[1;36m32\u001b[0m\u001b[1;33m,\u001b[0m\u001b[1;36m32\u001b[0m\u001b[1;33m]\u001b[0m\u001b[1;33m,\u001b[0m \u001b[1;36m32\u001b[0m\u001b[1;33m,\u001b[0m \u001b[0moptimizer\u001b[0m \u001b[1;33m=\u001b[0m \u001b[1;34m'SGD'\u001b[0m\u001b[1;33m)\u001b[0m\u001b[1;33m\u001b[0m\u001b[1;33m\u001b[0m\u001b[0m\n\u001b[0m\u001b[0;32m      2\u001b[0m \u001b[1;31m# For SGD batch-size is automatically set to 1\u001b[0m\u001b[1;33m\u001b[0m\u001b[1;33m\u001b[0m\u001b[0m\n",
            "\u001b[1;32m~\\AppData\\Local\\Temp\\ipykernel_26528\\2958390477.py\u001b[0m in \u001b[0;36mfit\u001b[1;34m(self, X, Y, epochs, learning_rate, hidden_layer_sizes, batch_size, optimizer)\u001b[0m\n\u001b[0;32m     60\u001b[0m         \u001b[0mself\u001b[0m\u001b[1;33m.\u001b[0m\u001b[0my\u001b[0m \u001b[1;33m=\u001b[0m \u001b[0mY\u001b[0m\u001b[1;33m[\u001b[0m\u001b[0mi\u001b[0m\u001b[1;33m:\u001b[0m\u001b[0mi\u001b[0m\u001b[1;33m+\u001b[0m\u001b[0mbatch_size\u001b[0m\u001b[1;33m,\u001b[0m\u001b[1;33m:\u001b[0m\u001b[1;33m]\u001b[0m\u001b[1;33m\u001b[0m\u001b[1;33m\u001b[0m\u001b[0m\n\u001b[0;32m     61\u001b[0m         \u001b[1;31m#print('y =', self.y.shape)\u001b[0m\u001b[1;33m\u001b[0m\u001b[1;33m\u001b[0m\u001b[0m\n\u001b[1;32m---> 62\u001b[1;33m         \u001b[0mself\u001b[0m\u001b[1;33m.\u001b[0m\u001b[0mgrad\u001b[0m\u001b[1;33m(\u001b[0m\u001b[0mself\u001b[0m\u001b[1;33m.\u001b[0m\u001b[0mx\u001b[0m\u001b[1;33m,\u001b[0m\u001b[0mself\u001b[0m\u001b[1;33m.\u001b[0m\u001b[0my\u001b[0m\u001b[1;33m)\u001b[0m\u001b[1;33m\u001b[0m\u001b[1;33m\u001b[0m\u001b[0m\n\u001b[0m\u001b[0;32m     63\u001b[0m         \u001b[0mself\u001b[0m\u001b[1;33m.\u001b[0m\u001b[0mW\u001b[0m\u001b[1;33m,\u001b[0m \u001b[0mself\u001b[0m\u001b[1;33m.\u001b[0m\u001b[0mB\u001b[0m \u001b[1;33m=\u001b[0m \u001b[0mopt\u001b[0m\u001b[1;33m.\u001b[0m\u001b[0mlearning_algoithm\u001b[0m\u001b[1;33m(\u001b[0m\u001b[0mself\u001b[0m\u001b[1;33m.\u001b[0m\u001b[0mW\u001b[0m\u001b[1;33m,\u001b[0m \u001b[0mself\u001b[0m\u001b[1;33m.\u001b[0m\u001b[0mB\u001b[0m\u001b[1;33m,\u001b[0m \u001b[0mself\u001b[0m\u001b[1;33m.\u001b[0m\u001b[0mdW\u001b[0m\u001b[1;33m,\u001b[0m \u001b[0mself\u001b[0m\u001b[1;33m.\u001b[0m\u001b[0mdB\u001b[0m\u001b[1;33m,\u001b[0m \u001b[0mself\u001b[0m\u001b[1;33m.\u001b[0m\u001b[0mnh\u001b[0m\u001b[1;33m,\u001b[0m \u001b[0mbatch_size\u001b[0m\u001b[1;33m,\u001b[0m \u001b[0mlearning_rate\u001b[0m\u001b[1;33m,\u001b[0m \u001b[0moptimizer\u001b[0m\u001b[1;33m)\u001b[0m\u001b[1;33m\u001b[0m\u001b[1;33m\u001b[0m\u001b[0m\n\u001b[0;32m     64\u001b[0m \u001b[1;33m\u001b[0m\u001b[0m\n",
            "\u001b[1;32m~\\AppData\\Local\\Temp\\ipykernel_26528\\2958390477.py\u001b[0m in \u001b[0;36mgrad\u001b[1;34m(self, x, y)\u001b[0m\n\u001b[0;32m     30\u001b[0m \u001b[1;33m\u001b[0m\u001b[0m\n\u001b[0;32m     31\u001b[0m     \u001b[1;32mfor\u001b[0m \u001b[0mi\u001b[0m \u001b[1;32min\u001b[0m \u001b[0mrange\u001b[0m\u001b[1;33m(\u001b[0m\u001b[0mself\u001b[0m\u001b[1;33m.\u001b[0m\u001b[0mnh\u001b[0m \u001b[1;33m+\u001b[0m \u001b[1;36m1\u001b[0m \u001b[1;33m,\u001b[0m \u001b[1;36m0\u001b[0m\u001b[1;33m,\u001b[0m \u001b[1;33m-\u001b[0m\u001b[1;36m1\u001b[0m\u001b[1;33m)\u001b[0m\u001b[1;33m:\u001b[0m\u001b[1;33m\u001b[0m\u001b[1;33m\u001b[0m\u001b[0m\n\u001b[1;32m---> 32\u001b[1;33m       \u001b[0mself\u001b[0m\u001b[1;33m.\u001b[0m\u001b[0mdW\u001b[0m\u001b[1;33m[\u001b[0m\u001b[0mi\u001b[0m\u001b[1;33m]\u001b[0m      \u001b[1;33m=\u001b[0m \u001b[0mnp\u001b[0m\u001b[1;33m.\u001b[0m\u001b[0mmatmul\u001b[0m\u001b[1;33m(\u001b[0m\u001b[0mself\u001b[0m\u001b[1;33m.\u001b[0m\u001b[0mdA\u001b[0m\u001b[1;33m[\u001b[0m\u001b[0mi\u001b[0m\u001b[1;33m]\u001b[0m\u001b[1;33m,\u001b[0m\u001b[0mself\u001b[0m\u001b[1;33m.\u001b[0m\u001b[0mH\u001b[0m\u001b[1;33m[\u001b[0m\u001b[0mi\u001b[0m\u001b[1;33m-\u001b[0m\u001b[1;36m1\u001b[0m\u001b[1;33m]\u001b[0m\u001b[1;33m.\u001b[0m\u001b[0mT\u001b[0m\u001b[1;33m)\u001b[0m\u001b[1;33m\u001b[0m\u001b[1;33m\u001b[0m\u001b[0m\n\u001b[0m\u001b[0;32m     33\u001b[0m       \u001b[0mself\u001b[0m\u001b[1;33m.\u001b[0m\u001b[0mdB\u001b[0m\u001b[1;33m[\u001b[0m\u001b[0mi\u001b[0m\u001b[1;33m]\u001b[0m      \u001b[1;33m=\u001b[0m \u001b[0mnp\u001b[0m\u001b[1;33m.\u001b[0m\u001b[0msum\u001b[0m\u001b[1;33m(\u001b[0m\u001b[0mself\u001b[0m\u001b[1;33m.\u001b[0m\u001b[0mdA\u001b[0m\u001b[1;33m[\u001b[0m\u001b[0mi\u001b[0m\u001b[1;33m]\u001b[0m\u001b[1;33m,\u001b[0m \u001b[0maxis\u001b[0m \u001b[1;33m=\u001b[0m \u001b[1;36m1\u001b[0m\u001b[1;33m)\u001b[0m\u001b[1;33m.\u001b[0m\u001b[0mreshape\u001b[0m\u001b[1;33m(\u001b[0m\u001b[1;33m-\u001b[0m\u001b[1;36m1\u001b[0m\u001b[1;33m,\u001b[0m\u001b[1;36m1\u001b[0m\u001b[1;33m)\u001b[0m\u001b[1;33m\u001b[0m\u001b[1;33m\u001b[0m\u001b[0m\n\u001b[0;32m     34\u001b[0m       \u001b[0mself\u001b[0m\u001b[1;33m.\u001b[0m\u001b[0mdH\u001b[0m\u001b[1;33m[\u001b[0m\u001b[0mi\u001b[0m\u001b[1;33m-\u001b[0m\u001b[1;36m1\u001b[0m\u001b[1;33m]\u001b[0m    \u001b[1;33m=\u001b[0m \u001b[0mnp\u001b[0m\u001b[1;33m.\u001b[0m\u001b[0mmatmul\u001b[0m\u001b[1;33m(\u001b[0m\u001b[0mself\u001b[0m\u001b[1;33m.\u001b[0m\u001b[0mW\u001b[0m\u001b[1;33m[\u001b[0m\u001b[0mi\u001b[0m\u001b[1;33m]\u001b[0m\u001b[1;33m.\u001b[0m\u001b[0mT\u001b[0m\u001b[1;33m,\u001b[0m\u001b[0mself\u001b[0m\u001b[1;33m.\u001b[0m\u001b[0mdA\u001b[0m\u001b[1;33m[\u001b[0m\u001b[0mi\u001b[0m\u001b[1;33m]\u001b[0m\u001b[1;33m)\u001b[0m\u001b[1;33m\u001b[0m\u001b[1;33m\u001b[0m\u001b[0m\n",
            "\u001b[1;31mKeyboardInterrupt\u001b[0m: "
          ]
        }
      ],
      "source": [
        "model.fit(X_train_scaled, y_train_enc, 100, 0.5, [32,32], 32, optimizer = 'SGD')\n",
        "# For SGD batch-size is automatically set to 1"
      ]
    }
  ],
  "metadata": {
    "colab": {
      "collapsed_sections": [
        "_Aqal939HNhx",
        "5RH_78eMoUz_",
        "F9mmePvZHTlv",
        "FURanER4HgN4",
        "zQAFW9LhIHSv"
      ],
      "provenance": []
    },
    "gpuClass": "standard",
    "kernelspec": {
      "display_name": "Python 3",
      "name": "python3"
    },
    "language_info": {
      "codemirror_mode": {
        "name": "ipython",
        "version": 3
      },
      "file_extension": ".py",
      "mimetype": "text/x-python",
      "name": "python",
      "nbconvert_exporter": "python",
      "pygments_lexer": "ipython3",
      "version": "3.9.13"
    },
    "widgets": {
      "application/vnd.jupyter.widget-state+json": {
        "3ed388d6af134fd183a31a67de6e01c3": {
          "model_module": "@jupyter-widgets/controls",
          "model_module_version": "1.5.0",
          "model_name": "FloatProgressModel",
          "state": {
            "_dom_classes": [],
            "_model_module": "@jupyter-widgets/controls",
            "_model_module_version": "1.5.0",
            "_model_name": "FloatProgressModel",
            "_view_count": null,
            "_view_module": "@jupyter-widgets/controls",
            "_view_module_version": "1.5.0",
            "_view_name": "ProgressView",
            "bar_style": "danger",
            "description": "",
            "description_tooltip": null,
            "layout": "IPY_MODEL_a019a73fcbfc439186145eec5bdf35e1",
            "max": 100,
            "min": 0,
            "orientation": "horizontal",
            "style": "IPY_MODEL_9f292cfb35e540d9ba3a38dae3e942f9",
            "value": 0
          }
        },
        "4b4be7f2755c4883b0f97a45b247d872": {
          "model_module": "@jupyter-widgets/controls",
          "model_module_version": "1.5.0",
          "model_name": "HTMLModel",
          "state": {
            "_dom_classes": [],
            "_model_module": "@jupyter-widgets/controls",
            "_model_module_version": "1.5.0",
            "_model_name": "HTMLModel",
            "_view_count": null,
            "_view_module": "@jupyter-widgets/controls",
            "_view_module_version": "1.5.0",
            "_view_name": "HTMLView",
            "description": "",
            "description_tooltip": null,
            "layout": "IPY_MODEL_f0a7b1cef1984356a7b3a162295df84c",
            "placeholder": "​",
            "style": "IPY_MODEL_af132ea858cd4f7d966f8a12617395e8",
            "value": "  0%"
          }
        },
        "676a80fe4b6b48ceb34c550f9a8b2c16": {
          "model_module": "@jupyter-widgets/base",
          "model_module_version": "1.2.0",
          "model_name": "LayoutModel",
          "state": {
            "_model_module": "@jupyter-widgets/base",
            "_model_module_version": "1.2.0",
            "_model_name": "LayoutModel",
            "_view_count": null,
            "_view_module": "@jupyter-widgets/base",
            "_view_module_version": "1.2.0",
            "_view_name": "LayoutView",
            "align_content": null,
            "align_items": null,
            "align_self": null,
            "border": null,
            "bottom": null,
            "display": null,
            "flex": null,
            "flex_flow": null,
            "grid_area": null,
            "grid_auto_columns": null,
            "grid_auto_flow": null,
            "grid_auto_rows": null,
            "grid_column": null,
            "grid_gap": null,
            "grid_row": null,
            "grid_template_areas": null,
            "grid_template_columns": null,
            "grid_template_rows": null,
            "height": null,
            "justify_content": null,
            "justify_items": null,
            "left": null,
            "margin": null,
            "max_height": null,
            "max_width": null,
            "min_height": null,
            "min_width": null,
            "object_fit": null,
            "object_position": null,
            "order": null,
            "overflow": null,
            "overflow_x": null,
            "overflow_y": null,
            "padding": null,
            "right": null,
            "top": null,
            "visibility": null,
            "width": null
          }
        },
        "7705bb3cd28246dd93b55ecef14187f9": {
          "model_module": "@jupyter-widgets/controls",
          "model_module_version": "1.5.0",
          "model_name": "HTMLModel",
          "state": {
            "_dom_classes": [],
            "_model_module": "@jupyter-widgets/controls",
            "_model_module_version": "1.5.0",
            "_model_name": "HTMLModel",
            "_view_count": null,
            "_view_module": "@jupyter-widgets/controls",
            "_view_module_version": "1.5.0",
            "_view_name": "HTMLView",
            "description": "",
            "description_tooltip": null,
            "layout": "IPY_MODEL_ff34ee29c5954db2a88d03423a862c4e",
            "placeholder": "​",
            "style": "IPY_MODEL_cbf86b1276e84da1a4e482d49c64406c",
            "value": " 0/100 [04:13&lt;?, ?epoch/s]"
          }
        },
        "9f292cfb35e540d9ba3a38dae3e942f9": {
          "model_module": "@jupyter-widgets/controls",
          "model_module_version": "1.5.0",
          "model_name": "ProgressStyleModel",
          "state": {
            "_model_module": "@jupyter-widgets/controls",
            "_model_module_version": "1.5.0",
            "_model_name": "ProgressStyleModel",
            "_view_count": null,
            "_view_module": "@jupyter-widgets/base",
            "_view_module_version": "1.2.0",
            "_view_name": "StyleView",
            "bar_color": null,
            "description_width": ""
          }
        },
        "a019a73fcbfc439186145eec5bdf35e1": {
          "model_module": "@jupyter-widgets/base",
          "model_module_version": "1.2.0",
          "model_name": "LayoutModel",
          "state": {
            "_model_module": "@jupyter-widgets/base",
            "_model_module_version": "1.2.0",
            "_model_name": "LayoutModel",
            "_view_count": null,
            "_view_module": "@jupyter-widgets/base",
            "_view_module_version": "1.2.0",
            "_view_name": "LayoutView",
            "align_content": null,
            "align_items": null,
            "align_self": null,
            "border": null,
            "bottom": null,
            "display": null,
            "flex": null,
            "flex_flow": null,
            "grid_area": null,
            "grid_auto_columns": null,
            "grid_auto_flow": null,
            "grid_auto_rows": null,
            "grid_column": null,
            "grid_gap": null,
            "grid_row": null,
            "grid_template_areas": null,
            "grid_template_columns": null,
            "grid_template_rows": null,
            "height": null,
            "justify_content": null,
            "justify_items": null,
            "left": null,
            "margin": null,
            "max_height": null,
            "max_width": null,
            "min_height": null,
            "min_width": null,
            "object_fit": null,
            "object_position": null,
            "order": null,
            "overflow": null,
            "overflow_x": null,
            "overflow_y": null,
            "padding": null,
            "right": null,
            "top": null,
            "visibility": null,
            "width": null
          }
        },
        "af132ea858cd4f7d966f8a12617395e8": {
          "model_module": "@jupyter-widgets/controls",
          "model_module_version": "1.5.0",
          "model_name": "DescriptionStyleModel",
          "state": {
            "_model_module": "@jupyter-widgets/controls",
            "_model_module_version": "1.5.0",
            "_model_name": "DescriptionStyleModel",
            "_view_count": null,
            "_view_module": "@jupyter-widgets/base",
            "_view_module_version": "1.2.0",
            "_view_name": "StyleView",
            "description_width": ""
          }
        },
        "b7ac12d08f7f4556a93ce741bb276803": {
          "model_module": "@jupyter-widgets/controls",
          "model_module_version": "1.5.0",
          "model_name": "HBoxModel",
          "state": {
            "_dom_classes": [],
            "_model_module": "@jupyter-widgets/controls",
            "_model_module_version": "1.5.0",
            "_model_name": "HBoxModel",
            "_view_count": null,
            "_view_module": "@jupyter-widgets/controls",
            "_view_module_version": "1.5.0",
            "_view_name": "HBoxView",
            "box_style": "",
            "children": [
              "IPY_MODEL_4b4be7f2755c4883b0f97a45b247d872",
              "IPY_MODEL_3ed388d6af134fd183a31a67de6e01c3",
              "IPY_MODEL_7705bb3cd28246dd93b55ecef14187f9"
            ],
            "layout": "IPY_MODEL_676a80fe4b6b48ceb34c550f9a8b2c16"
          }
        },
        "cbf86b1276e84da1a4e482d49c64406c": {
          "model_module": "@jupyter-widgets/controls",
          "model_module_version": "1.5.0",
          "model_name": "DescriptionStyleModel",
          "state": {
            "_model_module": "@jupyter-widgets/controls",
            "_model_module_version": "1.5.0",
            "_model_name": "DescriptionStyleModel",
            "_view_count": null,
            "_view_module": "@jupyter-widgets/base",
            "_view_module_version": "1.2.0",
            "_view_name": "StyleView",
            "description_width": ""
          }
        },
        "f0a7b1cef1984356a7b3a162295df84c": {
          "model_module": "@jupyter-widgets/base",
          "model_module_version": "1.2.0",
          "model_name": "LayoutModel",
          "state": {
            "_model_module": "@jupyter-widgets/base",
            "_model_module_version": "1.2.0",
            "_model_name": "LayoutModel",
            "_view_count": null,
            "_view_module": "@jupyter-widgets/base",
            "_view_module_version": "1.2.0",
            "_view_name": "LayoutView",
            "align_content": null,
            "align_items": null,
            "align_self": null,
            "border": null,
            "bottom": null,
            "display": null,
            "flex": null,
            "flex_flow": null,
            "grid_area": null,
            "grid_auto_columns": null,
            "grid_auto_flow": null,
            "grid_auto_rows": null,
            "grid_column": null,
            "grid_gap": null,
            "grid_row": null,
            "grid_template_areas": null,
            "grid_template_columns": null,
            "grid_template_rows": null,
            "height": null,
            "justify_content": null,
            "justify_items": null,
            "left": null,
            "margin": null,
            "max_height": null,
            "max_width": null,
            "min_height": null,
            "min_width": null,
            "object_fit": null,
            "object_position": null,
            "order": null,
            "overflow": null,
            "overflow_x": null,
            "overflow_y": null,
            "padding": null,
            "right": null,
            "top": null,
            "visibility": null,
            "width": null
          }
        },
        "ff34ee29c5954db2a88d03423a862c4e": {
          "model_module": "@jupyter-widgets/base",
          "model_module_version": "1.2.0",
          "model_name": "LayoutModel",
          "state": {
            "_model_module": "@jupyter-widgets/base",
            "_model_module_version": "1.2.0",
            "_model_name": "LayoutModel",
            "_view_count": null,
            "_view_module": "@jupyter-widgets/base",
            "_view_module_version": "1.2.0",
            "_view_name": "LayoutView",
            "align_content": null,
            "align_items": null,
            "align_self": null,
            "border": null,
            "bottom": null,
            "display": null,
            "flex": null,
            "flex_flow": null,
            "grid_area": null,
            "grid_auto_columns": null,
            "grid_auto_flow": null,
            "grid_auto_rows": null,
            "grid_column": null,
            "grid_gap": null,
            "grid_row": null,
            "grid_template_areas": null,
            "grid_template_columns": null,
            "grid_template_rows": null,
            "height": null,
            "justify_content": null,
            "justify_items": null,
            "left": null,
            "margin": null,
            "max_height": null,
            "max_width": null,
            "min_height": null,
            "min_width": null,
            "object_fit": null,
            "object_position": null,
            "order": null,
            "overflow": null,
            "overflow_x": null,
            "overflow_y": null,
            "padding": null,
            "right": null,
            "top": null,
            "visibility": null,
            "width": null
          }
        }
      }
    }
  },
  "nbformat": 4,
  "nbformat_minor": 0
}
